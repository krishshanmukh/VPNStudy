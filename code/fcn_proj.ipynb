{
 "cells": [
  {
   "cell_type": "code",
   "execution_count": 128,
   "metadata": {},
   "outputs": [],
   "source": [
    "# TODO\n",
    "# get the various paths that are taken from our machine to the destination for various VPN services.\n",
    "# calculate the time in multiple cases and record the average time\n",
    "\n",
    "target = \"54.185.10.135\""
   ]
  },
  {
   "cell_type": "code",
   "execution_count": 151,
   "metadata": {},
   "outputs": [],
   "source": [
    "# shanmukh's ip geolocation lookup\n",
    "import json\n",
    "from ip2geotools.databases.noncommercial import DbIpCity\n",
    "\n",
    "def get_location(target):\n",
    "    result = json.loads(DbIpCity.get(target, api_key='free').to_json())\n",
    "    #print(result)\n",
    "    return result['city'],result['country']\n"
   ]
  },
  {
   "cell_type": "code",
   "execution_count": 142,
   "metadata": {},
   "outputs": [
    {
     "data": {
      "text/plain": [
       "<mod Traceroute: TCP:0 UDP:0 ICMP:21 Other:0>"
      ]
     },
     "execution_count": 142,
     "metadata": {},
     "output_type": "execute_result"
    }
   ],
   "source": [
    "# TCP Traceroute\n",
    "from scapy.layers.inet import traceroute\n",
    "from scapy.layers.inet import traceroute_map\n",
    "# ans,unans = answered,unanswered packets list\n",
    "# They are of type TracerouteResult defined in scapy/inet.py\n",
    "# each entry in ans is a 2-entry tuple = send,recv packet\n",
    "\n",
    "\n",
    "ans,unans = traceroute(target, maxttl=60, verbose=0)\n",
    "index = len(ans)\n",
    "for i,v in enumerate(ans):\n",
    "    if v[1].src == target:\n",
    "        index = i\n",
    "        break\n",
    "\n",
    "# scapy parallelly sends requests for all TTL's and stores results from them.\n",
    "# Removing redundant entries after the packet reaches destination\n",
    "ans[0:index+1]"
   ]
  },
  {
   "cell_type": "code",
   "execution_count": 153,
   "metadata": {},
   "outputs": [
    {
     "name": "stdout",
     "output_type": "stream",
     "text": [
      "List of answered packets:\n",
      "\n",
      "2    54.185.10.135 ==> 129.49.159.131  (Stony Brook,US)\n",
      "3    54.185.10.135 ==> 129.49.7.114    (New York,US)\n",
      "5    54.185.10.135 ==> 199.109.5.129   (New York,US)\n",
      "6    54.185.10.135 ==> 199.109.7.166   (Syracuse (Downtown),US)\n",
      "7    54.185.10.135 ==> 199.109.7.93    (Syracuse (Downtown),US)\n",
      "8    54.185.10.135 ==> 199.109.7.194   (Syracuse (Downtown),US)\n",
      "9    54.185.10.135 ==> 199.109.11.34   (Newark,US)\n",
      "10   54.185.10.135 ==> 162.252.70.131  (Newark,US)\n",
      "12   54.185.10.135 ==> 162.252.70.107  (Newark,US)\n",
      "11   54.185.10.135 ==> 162.252.70.162  (Newark,US)\n",
      "13   54.185.10.135 ==> 162.252.70.172  (Newark,US)\n",
      "14   54.185.10.135 ==> 99.82.179.38    (Ashburn,US)\n",
      "15   54.185.10.135 ==> 52.95.52.182    (Ashburn,US)\n",
      "16   54.185.10.135 ==> 52.95.52.63     (Ashburn,US)\n",
      "19   54.185.10.135 ==> 54.239.42.217   (Seattle (South Lake Union),US)\n",
      "20   54.185.10.135 ==> 52.93.12.226    (Seattle (South Lake Union),US)\n",
      "18   54.185.10.135 ==> 52.93.131.47    (Seattle (South Lake Union),US)\n",
      "22   54.185.10.135 ==> 52.93.12.72     (Seattle (South Lake Union),US)\n",
      "23   54.185.10.135 ==> 52.93.246.99    (Seattle (South Lake Union),US)\n",
      "24   54.185.10.135 ==> 52.93.13.17     (Seattle (South Lake Union),US)\n",
      "31   54.185.10.135 ==> 54.185.10.135   (Portland,US)\n"
     ]
    }
   ],
   "source": [
    "print(\"List of answered packets:\")\n",
    "print()\n",
    "for s,d in ans[0:index+1]:\n",
    "    src = s.sprintf(\"%-03s,IP.ttl%  %IP.dst%\")\n",
    "    city,country = get_location(d.src)\n",
    "    dst = d.sprintf(\"%-15s,IP.src% (\"+city+\",\"+country+\")\")\n",
    "    print(src+\" ==> \"+dst)"
   ]
  },
  {
   "cell_type": "code",
   "execution_count": 132,
   "metadata": {},
   "outputs": [
    {
     "name": "stdout",
     "output_type": "stream",
     "text": [
      "List of unanswered packets:\n",
      "\n",
      "TTL  Source IP      Port\n",
      "1    54.185.10.135  80\n",
      "4    54.185.10.135  80\n",
      "18   54.185.10.135  80\n",
      "19   54.185.10.135  80\n",
      "20   54.185.10.135  80\n",
      "26   54.185.10.135  80\n",
      "27   54.185.10.135  80\n",
      "28   54.185.10.135  80\n",
      "29   54.185.10.135  80\n",
      "30   54.185.10.135  80\n"
     ]
    }
   ],
   "source": [
    "print(\"List of unanswered packets:\")\n",
    "print()\n",
    "print(\"TTL  Source IP      Port\")\n",
    "for s in unans:\n",
    "    print(s.sprintf(\"%-03s,IP.ttl%  %IP.dst%  {TCP:%ir,TCP.dport%}{UDP:udp%ir,UDP.dport%}\"))"
   ]
  },
  {
   "cell_type": "code",
   "execution_count": 133,
   "metadata": {},
   "outputs": [
    {
     "name": "stdout",
     "output_type": "stream",
     "text": [
      "b''\n"
     ]
    }
   ],
   "source": [
    "# In case its needed\n",
    "from subprocess import Popen,PIPE\n",
    "process = Popen(['cat', 'test.py'], stdout=PIPE, stderr=PIPE)\n",
    "stdout, stderr = process.communicate()\n",
    "print(stdout)"
   ]
  },
  {
   "cell_type": "code",
   "execution_count": null,
   "metadata": {},
   "outputs": [],
   "source": []
  }
 ],
 "metadata": {
  "kernelspec": {
   "display_name": "Python 3",
   "language": "python",
   "name": "python3"
  },
  "language_info": {
   "codemirror_mode": {
    "name": "ipython",
    "version": 3
   },
   "file_extension": ".py",
   "mimetype": "text/x-python",
   "name": "python",
   "nbconvert_exporter": "python",
   "pygments_lexer": "ipython3",
   "version": "3.7.4"
  }
 },
 "nbformat": 4,
 "nbformat_minor": 2
}
